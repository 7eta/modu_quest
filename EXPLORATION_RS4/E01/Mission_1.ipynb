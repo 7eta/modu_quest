import pandas as pd
import numpy as np
from sklearn.model_selection import train_test_split
from sklearn.datasets import load_diabetes
import matplotlib.pyplot as plt

data = load_diabetes()

df_x = pd.DataFrame(data.data,columns=data.feature_names)
df_y = pd.DataFrame(data.target,columns=['target'])

arr_x = df_x.values
arr_y = df_y.values[:,0]
# arr_y = df_y.values[:,0] / 152 #평준화

x_train,x_test,y_train,y_test = train_test_split(arr_x,arr_y,
                                                    test_size=0.2,
                                                    random_state = 10)

W = np.random.rand(x_train.shape[1])
b = np.random.rand()
dW = 0
db = 0


def build_model(X,W,b):
  predict = np.dot(X,W)+b
  return predict

def loss(X,W,b,y):
  predict = build_model(X,W,b)
  L = ((y - predict) ** 2).mean()
  return L

def gradient(X,W,b,y,dW,db):
  N = len(y)
  predict = build_model(X,W,b)
  dW = 1/N * -2 * np.dot(X.T,(y-predict))
  db = -2 * (y - predict).mean()
  return dW,db

def training(X,W,b,y,dW,db,cnt=1000,learning_rate=0.1):
  for i in range(cnt):
    dW,db = gradient(X,W,b,y,dW,db)
    W -= learning_rate * dW
    b -= learning_rate * db
    L = loss(X,W,b,y)
    if i % 100 == 0:
      print(f'{i}, loss {L:.4f}')
  return W,b

def test_val(X,W,b,y):
  predict = build_model(X,W,b)
  mse = loss(X,W,b,y)
  visual(X,predict,y)

def visual(X,predict,y):
  plt.scatter(x_test[:,0],y_test, label='Test')
  plt.scatter(x_test[:,0],predict, label='predict')
  plt.legend()
  plt.show()
  
results = training(x_train,W,b,y_train,dW,db)
test_val(x_test,W,b,y_test)
